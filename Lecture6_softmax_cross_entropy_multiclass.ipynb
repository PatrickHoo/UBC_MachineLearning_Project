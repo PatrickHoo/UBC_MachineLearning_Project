{
  "nbformat": 4,
  "nbformat_minor": 0,
  "metadata": {
    "colab": {
      "provenance": []
    },
    "kernelspec": {
      "name": "python3",
      "display_name": "Python 3"
    },
    "language_info": {
      "name": "python"
    }
  },
  "cells": [
    {
      "cell_type": "markdown",
      "source": [
        "#The code below is the multicalss softmax function:\n",
        "#The code below is the multicalss softmax function:\n",
        "\n",
        "\n",
        "\n",
        "\n",
        "\n"
      ],
      "metadata": {
        "id": "TvXx167IMqk7"
      }
    },
    {
      "cell_type": "code",
      "source": [
        "from autograd import grad\n",
        "import autograd.numpy as np\n",
        "import matplotlib.pyplot as plt\n",
        "from autograd.misc.flatten import flatten_func\n",
        "from autograd import value_and_grad\n",
        "import math\n",
        "\n",
        "from sklearn import datasets\n",
        "iris = datasets.load_iris()\n",
        "# get labels and features, use sepal this time\n",
        "y = iris.target\n",
        "x1 = iris.data[:,0]\n",
        "x2 = iris.data[:,1]\n",
        "x= np.array([x1,x2])\n",
        "x= x.T\n",
        "\n",
        "def model(x,w):\n",
        "    a = w[0] + np.dot(x,w[1:])\n",
        "    return a\n",
        "\n",
        "def Cross_entropy_Categorical(w,x,y):\n",
        "    a = model(x,w)\n",
        "    exp_a = np.exp(a)\n",
        "    sum =np.sum(exp_a,axis=1)\n",
        "    b = exp_a[np.arange(np.size(y)), y.astype(int)]\n",
        "    cost = -np.sum(np.log(b/sum))\n",
        "    return cost/float(np.size(y))\n",
        "\n",
        "def Cross_Entropy_CATE(t):\n",
        "    Cross_Entropy_CATE =Cross_entropy_Categorical(t,x,y)\n",
        "    return Cross_Entropy_CATE\n",
        "\n",
        "\n",
        "def multiclass_soft_max(w,x,y):\n",
        "    # pre-compute predictions on all points\n",
        "    all_evals = model(x,w)\n",
        "    a = np.log(np.exp(all_evals).sum(axis = 1))\n",
        "    # compute cost in compact form using numpy broadcasting\n",
        "    b = all_evals[np.arange(np.size(y)), y.astype(int)]\n",
        "    cost = np.sum(a-b)\n",
        "    # return average\n",
        "    return cost/float(np.size(y))\n",
        "\n",
        "def Multi_Soft_max(t):\n",
        "    Multi_Soft_max =multiclass_soft_max(t,x,y)\n",
        "    return Multi_Soft_max\n",
        "\n",
        "\n",
        "\n",
        "def gradient_descent(g, step, max_its, w):\n",
        "    # flatten g\n",
        "    g_flat, unflatten_func, w_flat = flatten_func(g,w)\n",
        "    # compute gradient\n",
        "    gradient = grad(g_flat)\n",
        "    # gradient descent loop\n",
        "    weight_history = [w_flat] # weight history container\n",
        "    cost_history = [g_flat(w_flat)] # cost history container\n",
        "    for k in range(max_its):\n",
        "        # eval gradient\n",
        "        grad_eval = gradient(w_flat)\n",
        "        grad_eval_norm = grad_eval / np.linalg.norm(grad_eval)\n",
        "        # take grad descent step\n",
        "        if step == 'd':\n",
        "            alpha = 1/(k+1)\n",
        "        else:\n",
        "            alpha = step\n",
        "        w_flat = w_flat - alpha*grad_eval_norm\n",
        "        # record weight and cost\n",
        "        weight_history.append(w_flat)\n",
        "        cost_history.append(g_flat(w_flat))\n",
        "    return weight_history, cost_history, unflatten_func\n",
        "\n",
        "\n",
        "\n",
        "C = 3 # n. classes\n",
        "iter = 5000\n",
        "N = 2\n",
        "w = np.ones((N+1,C))\n",
        "#def c(t):\n",
        "   # c = Multi_Soft_max(x,y,t)\n",
        "  #  return c\n",
        "a, b, unflatten = gradient_descent(Multi_Soft_max,0.1,iter,w)\n",
        "\n",
        "plt.figure(0)\n",
        "plt.plot(b)\n",
        "\n",
        "wp = unflatten(a[iter])\n",
        "print(wp)\n",
        "\n",
        "xp1, xp2 = np.meshgrid(np.linspace(3.5,8,100),np.linspace(1.8,4.5,100))\n",
        "# vectorize mesh grid\n",
        "xp1_v = xp1.reshape(-1,1)\n",
        "xp2_v = xp2.reshape(-1,1)\n",
        "Xp_data = np.append(xp1_v,xp2_v,axis=1)\n",
        "v=model(Xp_data,wp)\n",
        "z=np.argmax(v,axis=1)\n",
        "\n",
        "z=z.reshape(xp1.shape)\n",
        "plt.figure(1)\n",
        "plt.contourf(xp1,xp2,z,alpha=.2)\n",
        "plt.xlabel('x1')\n",
        "plt.ylabel('x2');\n",
        "\n",
        "plt.figure(1)\n",
        "\n",
        "plt.scatter(x1[y==0],x2[y==0],c='r')\n",
        "plt.scatter(x1[y==1],x2[y==1],c='b')\n",
        "plt.scatter(x1[y==2],x2[y==2],c='orange')\n"
      ],
      "metadata": {
        "colab": {
          "base_uri": "https://localhost:8080/",
          "height": 600
        },
        "id": "v7Zqq_lKPogm",
        "outputId": "74f61311-dea6-4c1c-9c15-6608e561b135"
      },
      "execution_count": 30,
      "outputs": [
        {
          "output_type": "stream",
          "name": "stdout",
          "text": [
            "[[ 3.27427229  4.44308383 -4.71735611]\n",
            " [-2.98732111  2.32059567  3.66672544]\n",
            " [ 7.38935305 -2.2483107  -2.14104235]]\n"
          ]
        },
        {
          "output_type": "execute_result",
          "data": {
            "text/plain": [
              "<matplotlib.collections.PathCollection at 0x7f992d094f10>"
            ]
          },
          "metadata": {},
          "execution_count": 30
        },
        {
          "output_type": "display_data",
          "data": {
            "text/plain": [
              "<Figure size 432x288 with 1 Axes>"
            ],
            "image/png": "[encoded data removed]"
          },
          "metadata": {
            "needs_background": "light"
          }
        },
        {
          "output_type": "display_data",
          "data": {
            "text/plain": [
              "<Figure size 432x288 with 1 Axes>"
            ],
            "image/png": "[encoded data removed]"
          },
          "metadata": {
            "needs_background": "light"
          }
        }
      ]
    },
    {
      "cell_type": "markdown",
      "source": [
        "#The code below is the multicalss cross-entroy function\n",
        "#The code below is the multicalss cross-entroy function"
      ],
      "metadata": {
        "id": "uxBvi9E0P0dz"
      }
    },
    {
      "cell_type": "code",
      "source": [
        "from autograd import grad\n",
        "import autograd.numpy as np\n",
        "import matplotlib.pyplot as plt\n",
        "from autograd.misc.flatten import flatten_func\n",
        "from autograd import value_and_grad\n",
        "import math\n",
        "\n",
        "from sklearn import datasets\n",
        "iris = datasets.load_iris()\n",
        "# get labels and features, use sepal this time\n",
        "y = iris.target\n",
        "x1 = iris.data[:,0]\n",
        "x2 = iris.data[:,1]\n",
        "x= np.array([x1,x2])\n",
        "x= x.T\n",
        "\n",
        "def model(x,w):\n",
        "    a = w[0] + np.dot(x,w[1:])\n",
        "    return a\n",
        "\n",
        "def Cross_entropy_Categorical(w,x,y):\n",
        "    a = model(x,w)\n",
        "    exp_a = np.exp(a)\n",
        "    sum =np.sum(exp_a,axis=1)\n",
        "    b = exp_a[np.arange(np.size(y)), y.astype(int)]\n",
        "    cost = -np.sum(np.log(b/sum))\n",
        "    return cost/float(np.size(y))\n",
        "\n",
        "def Cross_Entropy_CATE(t):\n",
        "    Cross_Entropy_CATE =Cross_entropy_Categorical(t,x,y)\n",
        "    return Cross_Entropy_CATE\n",
        "\n",
        "\n",
        "def multiclass_soft_max(w,x,y):\n",
        "    # pre-compute predictions on all points\n",
        "    all_evals = model(x,w)\n",
        "    a = np.log(np.exp(all_evals).sum(axis = 1))\n",
        "    # compute cost in compact form using numpy broadcasting\n",
        "    b = all_evals[np.arange(np.size(y)), y.astype(int)]\n",
        "    cost = np.sum(a-b)\n",
        "    # return average\n",
        "    return cost/float(np.size(y))\n",
        "\n",
        "def Multi_Soft_max(t):\n",
        "    Multi_Soft_max =multiclass_soft_max(t,x,y)\n",
        "    return Multi_Soft_max\n",
        "\n",
        "\n",
        "\n",
        "def gradient_descent(g, step, max_its, w):\n",
        "    # flatten g\n",
        "    g_flat, unflatten_func, w_flat = flatten_func(g,w)\n",
        "    # compute gradient\n",
        "    gradient = grad(g_flat)\n",
        "    # gradient descent loop\n",
        "    weight_history = [w_flat] # weight history container\n",
        "    cost_history = [g_flat(w_flat)] # cost history container\n",
        "    for k in range(max_its):\n",
        "        # eval gradient\n",
        "        grad_eval = gradient(w_flat)\n",
        "        grad_eval_norm = grad_eval / np.linalg.norm(grad_eval)\n",
        "        # take grad descent step\n",
        "        if step == 'd':\n",
        "            alpha = 1/(k+1)\n",
        "        else:\n",
        "            alpha = step\n",
        "        w_flat = w_flat - alpha*grad_eval_norm\n",
        "        # record weight and cost\n",
        "        weight_history.append(w_flat)\n",
        "        cost_history.append(g_flat(w_flat))\n",
        "    return weight_history, cost_history, unflatten_func\n",
        "\n",
        "\n",
        "\n",
        "C = 3 # n. classes\n",
        "iter = 5000\n",
        "N = 2\n",
        "w = np.ones((N+1,C))\n",
        "#def c(t):\n",
        "   # c = Multi_Soft_max(x,y,t)\n",
        "  #  return c\n",
        "a, b, unflatten = gradient_descent(Cross_Entropy_CATE,0.1,iter,w)\n",
        "\n",
        "plt.figure(0)\n",
        "plt.plot(b)\n",
        "\n",
        "wp = unflatten(a[iter])\n",
        "print(wp)\n",
        "\n",
        "xp1, xp2 = np.meshgrid(np.linspace(3.5,8,100),np.linspace(1.8,4.5,100))\n",
        "# vectorize mesh grid\n",
        "xp1_v = xp1.reshape(-1,1)\n",
        "xp2_v = xp2.reshape(-1,1)\n",
        "Xp_data = np.append(xp1_v,xp2_v,axis=1)\n",
        "v=model(Xp_data,wp)\n",
        "z=np.argmax(v,axis=1)\n",
        "\n",
        "z=z.reshape(xp1.shape)\n",
        "plt.figure(1)\n",
        "plt.contourf(xp1,xp2,z,alpha=.2)\n",
        "plt.xlabel('x1')\n",
        "plt.ylabel('x2');\n",
        "\n",
        "plt.figure(1)\n",
        "\n",
        "plt.scatter(x1[y==0],x2[y==0],c='r')\n",
        "plt.scatter(x1[y==1],x2[y==1],c='b')\n",
        "plt.scatter(x1[y==2],x2[y==2],c='orange')\n"
      ],
      "metadata": {
        "colab": {
          "base_uri": "https://localhost:8080/",
          "height": 600
        },
        "id": "izr0ALWLP6-N",
        "outputId": "9c1dcfe4-ce47-446b-c1de-0a5d9fe971d1"
      },
      "execution_count": 31,
      "outputs": [
        {
          "output_type": "stream",
          "name": "stdout",
          "text": [
            "[[ 3.27427229  4.44308383 -4.71735611]\n",
            " [-2.98732111  2.32059567  3.66672544]\n",
            " [ 7.38935305 -2.2483107  -2.14104235]]\n"
          ]
        },
        {
          "output_type": "execute_result",
          "data": {
            "text/plain": [
              "<matplotlib.collections.PathCollection at 0x7f992cf9d310>"
            ]
          },
          "metadata": {},
          "execution_count": 31
        },
        {
          "output_type": "display_data",
          "data": {
            "text/plain": [
              "<Figure size 432x288 with 1 Axes>"
            ],
            "image/png": "[encoded data removed]"
          },
          "metadata": {
            "needs_background": "light"
          }
        },
        {
          "output_type": "display_data",
          "data": {
            "text/plain": [
              "<Figure size 432x288 with 1 Axes>"
            ],
            "image/png": "[encoded data removed]"
          },
          "metadata": {
            "needs_background": "light"
          }
        }
      ]
    },
    {
      "cell_type": "markdown",
      "source": [
        "Q2(C), From the figures we can see that A(multi-class softmax function) and B (categorial cross entropy function) are equal. This is because that the softmax function is equivalent to cross-entropy function in mathematical expression. and all the weights are involved into the calculation.\n",
        "\n",
        "However, these figures(a and b) are different from multi-class perceptron. This is because in both multi-class softmax and categorical cross-entropy functions, are the weights are used into the calculation, while in multi-class perceptron, we only pick the max value of X*Wi to minus X*Wyp. so generally, the figures in a and b are much more precise than the figures in the textbook(multi-class perceptron).\n"
      ],
      "metadata": {
        "id": "XCFmGtSWjgLk"
      }
    }
  ]
}