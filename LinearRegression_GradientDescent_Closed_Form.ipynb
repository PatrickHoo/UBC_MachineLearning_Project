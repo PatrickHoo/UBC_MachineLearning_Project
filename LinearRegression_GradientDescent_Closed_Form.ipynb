{
  "cells": [
    {
      "cell_type": "markdown",
      "source": [
        "Import gradient descent, function, numpy, and copy\n"
      ],
      "metadata": {
        "id": "tb4kH3tEb38g"
      },
      "id": "tb4kH3tEb38g"
    },
    {
      "cell_type": "code",
      "source": [
        "from autograd import grad\n",
        "import autograd.numpy as np\n",
        "import matplotlib . pyplot as plt\n",
        "from numpy.linalg import inv  #. this is to compute inverse matrix\n",
        "import copy\n",
        "from sklearn.linear_model import LinearRegression"
      ],
      "metadata": {
        "id": "xUpYBRBDb1tm"
      },
      "id": "xUpYBRBDb1tm",
      "execution_count": 1,
      "outputs": []
    },
    {
      "cell_type": "code",
      "execution_count": 2,
      "id": "c5d7b479",
      "metadata": {
        "id": "c5d7b479"
      },
      "outputs": [],
      "source": [
        "def model(x,w):\n",
        "    a = w[0] + np.dot(x.T,w[1:])  # this is the value of inner product\n",
        "    return a.T\n",
        "\n",
        "\n",
        "\n",
        "def least_squares (w,x,y):\n",
        "    cost = np.sum ((model(x,w)- y)**2)\n",
        "    return cost/float(y.size)"
      ]
    },
    {
      "cell_type": "markdown",
      "source": [
        "<br>The code below is the gradient descent function written by myself\n",
        "<br>"
      ],
      "metadata": {
        "id": "3xh9j0T7cgSM"
      },
      "id": "3xh9j0T7cgSM"
    },
    {
      "cell_type": "code",
      "execution_count": 3,
      "id": "4c46a615",
      "metadata": {
        "id": "4c46a615"
      },
      "outputs": [],
      "source": [
        "def my_new(g):  # Question partA. This is the function to replace autograd \n",
        "    def my_own_gradient_descent(w):\n",
        "        grads = []   \n",
        "        for i in range(len(w)):    # calculate gradients for each parameter\n",
        "            temp_low = copy.copy(w) \n",
        "            temp_high = copy.copy(w) \n",
        "            temp_low[i] = temp_low[i] - temp_low[i]*0.0000001  #0.00001 is the \n",
        "            temp_high[i] = temp_high[i] + temp_high[i]*0.0000001\n",
        "            \n",
        "            value_low = g(temp_low)\n",
        "            value_high = g(temp_high)\n",
        "            \n",
        "            grads.append((value_high - value_low)/(temp_high[i] -temp_low[i] ))\n",
        "            \n",
        "        return grads\n",
        "    return my_own_gradient_descent"
      ]
    },
    {
      "cell_type": "code",
      "execution_count": 4,
      "id": "f3db19be",
      "metadata": {
        "id": "f3db19be"
      },
      "outputs": [],
      "source": [
        "def gradient_descent (g, step, max_its ,w, p):\n",
        "# compute gradient\n",
        "    gradient = my_new(g)\n",
        "    weight_history = [w] # weight history\n",
        "    cost_history = [g(w)] # cost history container\n",
        "\n",
        "    for k in range(max_its):\n",
        "        \n",
        "        grad_eval = gradient(w)\n",
        "        grad_eval_norm = grad_eval /np.linalg.norm(grad_eval)\n",
        "        \n",
        "        if step == 'd': # diminishing step\n",
        "            alpha = 1/(k+1)\n",
        "        else: # constant step\n",
        "            alpha = step\n",
        "\n",
        "        w = w -alpha*grad_eval_norm\n",
        "\n",
        "        weight_history.append(w)\n",
        "        cost_history.append(g(w))\n",
        "    return weight_history , cost_history"
      ]
    },
    {
      "cell_type": "markdown",
      "source": [
        "Generate the orginal date of: Y = aX + b"
      ],
      "metadata": {
        "id": "z_d7s5tHd1T3"
      },
      "id": "z_d7s5tHd1T3"
    },
    {
      "cell_type": "code",
      "execution_count": 6,
      "id": "64f156b6",
      "metadata": {
        "colab": {
          "base_uri": "https://localhost:8080/",
          "height": 283
        },
        "id": "64f156b6",
        "outputId": "f6c4f7a1-4f07-41ad-e672-b78533ce7100"
      },
      "outputs": [
        {
          "output_type": "execute_result",
          "data": {
            "text/plain": [
              "[<matplotlib.lines.Line2D at 0x7f1f7e3c7f50>]"
            ]
          },
          "metadata": {},
          "execution_count": 6
        },
        {
          "output_type": "display_data",
          "data": {
            "text/plain": [
              "<Figure size 432x288 with 1 Axes>"
            ],
            "image/png": "[encoded data removed]"
          },
          "metadata": {
            "needs_background": "light"
          }
        }
      ],
      "source": [
        "x = 10* np.random.rand(1,100) # row. column\n",
        "y = .5 + 2*x + np.random.randn(1, 100)\n",
        "plt.figure(1)\n",
        "plt.plot(x.T,y.T,'x')\n",
        "\n"
      ]
    },
    {
      "cell_type": "code",
      "source": [
        "def c(t):\n",
        "    c = least_squares(t,x,y)\n",
        "    return c\n",
        "    \n",
        "w = np.array ([[1.0], [1.0]])\n",
        "a, b = gradient_descent(c,'d',100,w,0) #\n",
        "\n",
        "plt.figure(0)\n",
        "plt.plot(b)\n",
        "plt.figure(1)\n",
        "\n",
        "xp =[0, 10]\n",
        "plt.plot(xp,a[100][0]+ a[100][1]* xp) #w0 +w1*xp\n",
        "plt.plot(x.T,y.T,'x')\n",
        "print(a[100][0])  #this is the array of w0\n",
        "print(a[100][1])  ##this is the array of w1\n",
        "print(a[100][0], a[100][1])"
      ],
      "metadata": {
        "colab": {
          "base_uri": "https://localhost:8080/",
          "height": 567
        },
        "id": "L9twdD3pduAp",
        "outputId": "a971cda8-e0c8-437b-e877-b1aea1212bdc"
      },
      "id": "L9twdD3pduAp",
      "execution_count": 8,
      "outputs": [
        {
          "output_type": "stream",
          "name": "stdout",
          "text": [
            "[0.62044177]\n",
            "[1.97986337]\n",
            "[0.62044177] [1.97986337]\n"
          ]
        },
        {
          "output_type": "display_data",
          "data": {
            "text/plain": [
              "<Figure size 432x288 with 1 Axes>"
            ],
            "image/png": "[encoded data removed]"
          },
          "metadata": {
            "needs_background": "light"
          }
        },
        {
          "output_type": "display_data",
          "data": {
            "text/plain": [
              "<Figure size 432x288 with 1 Axes>"
            ],
            "image/png": "[encoded data removed]"
          },
          "metadata": {
            "needs_background": "light"
          }
        }
      ]
    },
    {
      "cell_type": "code",
      "execution_count": 10,
      "id": "a5192de1",
      "metadata": {
        "colab": {
          "base_uri": "https://localhost:8080/",
          "height": 301
        },
        "id": "a5192de1",
        "outputId": "76c3f369-0fd6-41e2-db78-7025c027a6cd"
      },
      "outputs": [
        {
          "output_type": "stream",
          "name": "stdout",
          "text": [
            "The value of w0 and W1:\n",
            "[0.15089426] [2.0439993]\n"
          ]
        },
        {
          "output_type": "display_data",
          "data": {
            "text/plain": [
              "<Figure size 432x288 with 1 Axes>"
            ],
            "image/png": "[encoded data removed]"
          },
          "metadata": {
            "needs_background": "light"
          }
        }
      ],
      "source": [
        "def Normal_Equation(X, Y):  # This is Question Part B, uses close-form solution\n",
        "    X_Trans = X.T  \n",
        "    Cal_weights = inv(X_Trans.dot(X)).dot(X_Trans).dot(Y)  \n",
        "    return Cal_weights[0], Cal_weights[1]# returns W0 and W1\n",
        "\n",
        "x = 10* np.random.rand(1,100) # row. column\n",
        "y = .5 + 2*x + np.random.randn(1, 100)\n",
        "\n",
        "plt.figure(1)\n",
        "plt.plot(x.T,y.T,'x')\n",
        "\n",
        "X_T = x.T\n",
        "Y_T = y.T\n",
        "\n",
        "#The code below: add colum to the most left of the matrix,also have np.r_ for row operation\n",
        "\n",
        "X_With_W0 = np.c_[np.ones((100, 1)), X_T] \n",
        "\n",
        "a = Normal_Equation(X_With_W0, Y_T)\n",
        "#print(a)\n",
        "# Let's test out prediction line \n",
        "xp =[0, 10]\n",
        "plt.plot(xp,a[0]+ a[1]* xp) #w0 +w1*xp\n",
        "plt.plot(x.T,y.T,'x')\n",
        "print(\"The value of w0 and W1:\")\n",
        "print(a[0], a[1])"
      ]
    },
    {
      "cell_type": "markdown",
      "source": [
        " Use scikit-learn to minimize g(w) with respect to w"
      ],
      "metadata": {
        "id": "uWFDSDNmen8K"
      },
      "id": "uWFDSDNmen8K"
    },
    {
      "cell_type": "code",
      "execution_count": 12,
      "id": "fe8ee7c0",
      "metadata": {
        "colab": {
          "base_uri": "https://localhost:8080/",
          "height": 372
        },
        "id": "fe8ee7c0",
        "outputId": "f9d97a1e-12d3-4668-9275-6e7734c8147f"
      },
      "outputs": [
        {
          "output_type": "stream",
          "name": "stdout",
          "text": [
            "[0.27854502] [[2.04546811]]\n"
          ]
        },
        {
          "output_type": "execute_result",
          "data": {
            "text/plain": [
              "array([[ 2.32401313],\n",
              "       [ 4.36948125],\n",
              "       [ 6.41494936],\n",
              "       [ 8.46041747],\n",
              "       [10.50588559]])"
            ]
          },
          "metadata": {},
          "execution_count": 12
        },
        {
          "output_type": "display_data",
          "data": {
            "text/plain": [
              "<Figure size 432x288 with 1 Axes>"
            ],
            "image/png": "[encoded data removed]"
          },
          "metadata": {
            "needs_background": "light"
          }
        }
      ],
      "source": [
        "# Use scikit-learn to minimize g(w) with respect to w\n",
        "x = 10* np.random.rand(1,100) # row. column\n",
        "X_T = x.T\n",
        "y = .5 + 2*x + np.random.randn(1, 100)\n",
        "Y_T = y.T\n",
        "#print(x)\n",
        "\n",
        "reg = LinearRegression().fit(X_T, Y_T)\n",
        "reg.score(X_T, Y_T)\n",
        "\n",
        "plt.figure(1)\n",
        "plt.plot(X_T, Y_T ,'x')\n",
        "\n",
        "xp =[0, 10]\n",
        "\n",
        "plt.plot(xp,reg.intercept_[0] + reg.coef_[0]* xp) #w0 +w1*xp\n",
        "\n",
        "#print the coefficients from the sklearn\n",
        "print(reg.intercept_, reg.coef_)\n",
        "\n",
        "#print the predicted value\n",
        "reg.predict(np.array([[1],[2],[3],[4],[5]]))"
      ]
    }
  ],
  "metadata": {
    "kernelspec": {
      "display_name": "Python 3 (ipykernel)",
      "language": "python",
      "name": "python3"
    },
    "language_info": {
      "codemirror_mode": {
        "name": "ipython",
        "version": 3
      },
      "file_extension": ".py",
      "mimetype": "text/x-python",
      "name": "python",
      "nbconvert_exporter": "python",
      "pygments_lexer": "ipython3",
      "version": "3.9.12"
    },
    "colab": {
      "provenance": [],
      "collapsed_sections": []
    }
  },
  "nbformat": 4,
  "nbformat_minor": 5
}