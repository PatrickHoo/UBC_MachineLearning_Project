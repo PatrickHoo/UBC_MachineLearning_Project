{
 "cells": [
  {
   "cell_type": "code",
   "execution_count": 904,
   "id": "cc59c984",
   "metadata": {},
   "outputs": [],
   "source": [
    "from autograd import grad\n",
    "import autograd.numpy as np\n",
    "import matplotlib . pyplot as plt\n",
    "import copy"
   ]
  },
  {
   "cell_type": "code",
   "execution_count": 905,
   "id": "8e9c27da",
   "metadata": {},
   "outputs": [],
   "source": [
    "def model(x,w):\n",
    "    a = w[0] + np.dot(x.T,w[1:])  # this is the value of inner product\n",
    "    return a.T"
   ]
  },
  {
   "cell_type": "code",
   "execution_count": 906,
   "id": "0034674c",
   "metadata": {},
   "outputs": [],
   "source": [
    "def least_squares (w,x,y):\n",
    "    cost = np.sum ((model(x,w)- y)**2)\n",
    "    return cost/float(y.size)"
   ]
  },
  {
   "cell_type": "code",
   "execution_count": 907,
   "id": "cee7d759",
   "metadata": {},
   "outputs": [],
   "source": [
    "def my_new(g):\n",
    "    def my_own_gradient_descent(w):\n",
    "        grads = []   \n",
    "        for i in range(len(w)):    # calculate gradients for each parameter\n",
    "            temp_low = copy.copy(w) \n",
    "            temp_high = copy.copy(w) \n",
    "            temp_low[i] = temp_low[i] - temp_low[i]*0.0000001  #0.00001 is the \n",
    "            temp_high[i] = temp_high[i] + temp_high[i]*0.0000001\n",
    "            \n",
    "            value_low = g(temp_low)\n",
    "            value_high = g(temp_high)\n",
    "            \n",
    "            grads.append((value_high - value_low)/(temp_high[i] -temp_low[i] ))\n",
    "            \n",
    "        return grads\n",
    "    return my_own_gradient_descent\n"
   ]
  },
  {
   "cell_type": "code",
   "execution_count": 908,
   "id": "2ad86694",
   "metadata": {},
   "outputs": [],
   "source": [
    "def gradient_descent (g, step, max_its ,w, p):\n",
    "# compute gradient\n",
    "    gradient = my_new(g)\n",
    "    weight_history = [w] # weight history\n",
    "    cost_history = [g(w)] # cost history container\n",
    "\n",
    "    for k in range(max_its):\n",
    "        #eval gradient\n",
    "        grad_eval = gradient(w)\n",
    "        grad_eval_norm = grad_eval /np.linalg.norm(grad_eval)\n",
    "        \n",
    "        if step == 'd': # diminishing step\n",
    "            alpha = 1/(k+1)\n",
    "        else: # constant step\n",
    "            alpha = step\n",
    "\n",
    "        w = w -alpha*grad_eval_norm\n",
    "\n",
    "        weight_history.append(w)\n",
    "        cost_history.append(g(w))\n",
    "    return weight_history , cost_history"
   ]
  },
  {
   "cell_type": "code",
   "execution_count": 925,
   "id": "7fa8c456",
   "metadata": {},
   "outputs": [
    {
     "data": {
      "text/plain": [
       "[<matplotlib.lines.Line2D at 0x7fa952c3f070>]"
      ]
     },
     "execution_count": 925,
     "metadata": {},
     "output_type": "execute_result"
    },
    {
     "data": {
      "image/png": "[encoded data removed]",
      "text/plain": [
       "<Figure size 432x288 with 1 Axes>"
      ]
     },
     "metadata": {
      "needs_background": "light"
     },
     "output_type": "display_data"
    }
   ],
   "source": [
    "x = 10* np.random.rand(1,100) # row. column\n",
    "y = .5 + 2*x + np.random.randn(1, 100)\n",
    "\n",
    "#np.random.rand?\n",
    "plt.figure(1)\n",
    "plt.plot(x.T,y.T,'x')"
   ]
  },
  {
   "cell_type": "code",
   "execution_count": 926,
   "id": "82229b77",
   "metadata": {},
   "outputs": [],
   "source": [
    "def c(t):\n",
    "    c = least_squares(t,x,y)\n",
    "    return c"
   ]
  },
  {
   "cell_type": "code",
   "execution_count": 927,
   "id": "7f5018c1",
   "metadata": {},
   "outputs": [
    {
     "name": "stdout",
     "output_type": "stream",
     "text": [
      "[0.50029299]\n",
      "[2.01702103]\n"
     ]
    },
    {
     "data": {
      "image/png": "[encoded data removed]",
      "text/plain": [
       "<Figure size 432x288 with 1 Axes>"
      ]
     },
     "metadata": {
      "needs_background": "light"
     },
     "output_type": "display_data"
    },
    {
     "data": {
      "image/png": "[encoded data removed]",
      "text/plain": [
       "<Figure size 432x288 with 1 Axes>"
      ]
     },
     "metadata": {
      "needs_background": "light"
     },
     "output_type": "display_data"
    }
   ],
   "source": [
    "#w = np.array([1,1])\n",
    "w = np.array ([[1.0], [1.0]])\n",
    "\n",
    "a, b = gradient_descent(c,'d',100,w,0) #\n",
    "#print(a)\n",
    "\n",
    "plt.figure(0)\n",
    "plt.plot(b)\n",
    "plt.figure(1)\n",
    "\n",
    "xp =[0, 10]\n",
    "plt.plot(xp,a[100][0]+ a[100][1]* xp) #w0 +w1*xp\n",
    "plt.plot(x.T,y.T,'x')\n",
    "print(a[100][0])  #this is the array of w0\n",
    "print(a[100][1])  ##this is the array of w1"
   ]
  },
  {
   "cell_type": "code",
   "execution_count": 928,
   "id": "7ad3f3ae",
   "metadata": {},
   "outputs": [
    {
     "name": "stdout",
     "output_type": "stream",
     "text": [
      "[0.50029299] [2.01702103]\n"
     ]
    }
   ],
   "source": [
    "print(a[100][0], a[100][1])"
   ]
  },
  {
   "cell_type": "code",
   "execution_count": null,
   "id": "a279ca10",
   "metadata": {},
   "outputs": [],
   "source": []
  },
  {
   "cell_type": "code",
   "execution_count": null,
   "id": "db0f38e1",
   "metadata": {},
   "outputs": [],
   "source": []
  },
  {
   "cell_type": "code",
   "execution_count": null,
   "id": "ca08fba2",
   "metadata": {},
   "outputs": [],
   "source": []
  },
  {
   "cell_type": "code",
   "execution_count": null,
   "id": "396ece09",
   "metadata": {},
   "outputs": [],
   "source": []
  },
  {
   "cell_type": "code",
   "execution_count": null,
   "id": "beb79205",
   "metadata": {},
   "outputs": [],
   "source": []
  },
  {
   "cell_type": "code",
   "execution_count": null,
   "id": "b5f5e2c8",
   "metadata": {},
   "outputs": [],
   "source": []
  },
  {
   "cell_type": "code",
   "execution_count": null,
   "id": "2f0686d9",
   "metadata": {},
   "outputs": [],
   "source": []
  },
  {
   "cell_type": "code",
   "execution_count": null,
   "id": "4b58a394",
   "metadata": {},
   "outputs": [],
   "source": []
  }
 ],
 "metadata": {
  "kernelspec": {
   "display_name": "Python 3 (ipykernel)",
   "language": "python",
   "name": "python3"
  },
  "language_info": {
   "codemirror_mode": {
    "name": "ipython",
    "version": 3
   },
   "file_extension": ".py",
   "mimetype": "text/x-python",
   "name": "python",
   "nbconvert_exporter": "python",
   "pygments_lexer": "ipython3",
   "version": "3.9.12"
  }
 },
 "nbformat": 4,
 "nbformat_minor": 5
}
